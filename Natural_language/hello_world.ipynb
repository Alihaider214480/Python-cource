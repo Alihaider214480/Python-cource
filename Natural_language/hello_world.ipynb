{
  "nbformat": 4,
  "nbformat_minor": 0,
  "metadata": {
    "colab": {
      "provenance": [],
      "authorship_tag": "ABX9TyPojCMSO3sg+OdPDFiwnGQ0",
      "include_colab_link": true
    },
    "kernelspec": {
      "name": "python3",
      "display_name": "Python 3"
    },
    "language_info": {
      "name": "python"
    }
  },
  "cells": [
    {
      "cell_type": "markdown",
      "metadata": {
        "id": "view-in-github",
        "colab_type": "text"
      },
      "source": [
        "<a href=\"https://colab.research.google.com/github/Alihaider214480/Python-cource/blob/main/hello_world.ipynb\" target=\"_parent\"><img src=\"https://colab.research.google.com/assets/colab-badge.svg\" alt=\"Open In Colab\"/></a>"
      ]
    },
    {
      "cell_type": "code",
      "execution_count": 5,
      "metadata": {
        "colab": {
          "base_uri": "https://localhost:8080/"
        },
        "id": "OZmZmRPOBa2i",
        "outputId": "08f3da28-a481-4099-cd78-a5a3edea887c"
      },
      "outputs": [
        {
          "output_type": "stream",
          "name": "stdout",
          "text": [
            "10\n"
          ]
        }
      ],
      "source": [
        "# prompt: write a function which take any input but give even output\n",
        "\n",
        "def give_even_output(*args):\n",
        "  \"\"\"\n",
        "  This function takes any input but always returns an even number.\n",
        "  \"\"\"\n",
        "  sum_of_inputs = sum(map(lambda x: int(x) if isinstance(x, (int, float)) else 0, args))\n",
        "  if sum_of_inputs % 2 == 0:\n",
        "    return sum_of_inputs\n",
        "  else:\n",
        "    return sum_of_inputs + 1\n",
        "even=give_even_output(9)\n",
        "print(even)"
      ]
    },
    {
      "cell_type": "code",
      "source": [],
      "metadata": {
        "id": "snwP5sLDClxu"
      },
      "execution_count": null,
      "outputs": []
    }
  ]
}